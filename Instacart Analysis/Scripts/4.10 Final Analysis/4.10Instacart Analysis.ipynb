{
 "cells": [
  {
   "cell_type": "code",
   "execution_count": 1,
   "metadata": {},
   "outputs": [],
   "source": [
    "#import libraries\n",
    "import pandas as pd\n",
    "import numpy as np\n",
    "import os"
   ]
  },
  {
   "cell_type": "code",
   "execution_count": 2,
   "metadata": {},
   "outputs": [],
   "source": [
    "path=r'C:\\Users\\jadep\\Documents\\Career Foundry\\Achievement 4\\04-2020Instacart Basket Analysis'"
   ]
  },
  {
   "cell_type": "code",
   "execution_count": 3,
   "metadata": {},
   "outputs": [],
   "source": [
    "df_cart=pd.read_csv(os.path.join(path,'Data','Prepared Data','all_data_merged.csv'),index_col=False)"
   ]
  },
  {
   "cell_type": "code",
   "execution_count": 4,
   "metadata": {},
   "outputs": [
    {
     "data": {
      "text/plain": [
       "Index(['Unnamed: 0', 'user_id', 'First Name', 'Surnam', 'Gender', 'STATE',\n",
       "       'Age', 'date_joined', 'n_dependants', 'fam_status', 'income',\n",
       "       'Unnamed: 0.1', 'Unnamed: 0_x', 'order_id', 'eval_set', 'order_number',\n",
       "       'orders_day_of_week', 'time_order_placed', 'days_since_prior_order',\n",
       "       'product_id', 'add_to_cart_order', 'reordered', '_merge',\n",
       "       'Unnamed: 0_y', 'product_name', 'aisle_id', 'department_id', 'prices',\n",
       "       'exists', 'price_range_loc', 'busiest day', 'busiest days',\n",
       "       'Busiest_period_of_day', 'busiest_period_of_day', 'busiest',\n",
       "       'max_order', 'loyalty_flag', 'avg_price', 'spending_flag',\n",
       "       'order_frequency'],\n",
       "      dtype='object')"
      ]
     },
     "execution_count": 4,
     "metadata": {},
     "output_type": "execute_result"
    }
   ],
   "source": [
    "df_cart.columns"
   ]
  },
  {
   "cell_type": "markdown",
   "metadata": {},
   "source": [
    "PII: customer dataframe contains identifying data as first/last name. Analysis of instacart dataframe can be completed without including such data"
   ]
  },
  {
   "cell_type": "code",
   "execution_count": null,
   "metadata": {},
   "outputs": [],
   "source": [
    "#create regions based on Census labels"
   ]
  },
  {
   "cell_type": "code",
   "execution_count": 6,
   "metadata": {},
   "outputs": [],
   "source": [
    "df_cart.loc[df_cart['STATE']=='Maine','region_flag']='Northeast'"
   ]
  },
  {
   "cell_type": "code",
   "execution_count": 10,
   "metadata": {},
   "outputs": [],
   "source": [
    "df_cart.loc[df_cart['STATE']=='Pennsylvania','region_flag']='Northeast'"
   ]
  },
  {
   "cell_type": "code",
   "execution_count": 14,
   "metadata": {},
   "outputs": [],
   "source": [
    "df_cart.loc[df_cart['STATE']=='New Jersey','region_flag']='Northeast'"
   ]
  },
  {
   "cell_type": "code",
   "execution_count": 15,
   "metadata": {},
   "outputs": [],
   "source": [
    "df_cart.loc[df_cart['STATE']=='New York','region_flag']='Northeast'"
   ]
  },
  {
   "cell_type": "code",
   "execution_count": 16,
   "metadata": {},
   "outputs": [],
   "source": [
    "df_cart.loc[df_cart['STATE']=='Vermont','region_flag']='Northeast'"
   ]
  },
  {
   "cell_type": "code",
   "execution_count": 17,
   "metadata": {},
   "outputs": [],
   "source": [
    "df_cart.loc[df_cart['STATE']=='Connecticut','region_flag']='Northeast'"
   ]
  },
  {
   "cell_type": "code",
   "execution_count": 18,
   "metadata": {},
   "outputs": [],
   "source": [
    "df_cart.loc[df_cart['STATE']=='New Hampshire','region_flag']='Northeast'"
   ]
  },
  {
   "cell_type": "code",
   "execution_count": 19,
   "metadata": {},
   "outputs": [],
   "source": [
    "df_cart.loc[df_cart['STATE']=='Rhode Island','region_flag']='Northeast'"
   ]
  },
  {
   "cell_type": "code",
   "execution_count": 20,
   "metadata": {},
   "outputs": [],
   "source": [
    "df_cart.loc[df_cart['STATE']=='Massachusetts','region_flag']='Northeast'"
   ]
  },
  {
   "cell_type": "code",
   "execution_count": 22,
   "metadata": {},
   "outputs": [],
   "source": [
    "df_cart.loc[df_cart['STATE']=='Ohio','region_flag']='Midwest'"
   ]
  },
  {
   "cell_type": "code",
   "execution_count": 24,
   "metadata": {},
   "outputs": [],
   "source": [
    "df_cart.loc[df_cart['STATE']=='Illinois','region_flag']='Midwest'"
   ]
  },
  {
   "cell_type": "code",
   "execution_count": 25,
   "metadata": {},
   "outputs": [],
   "source": [
    "df_cart.loc[df_cart['STATE']=='Indiana','region_flag']='Midwest'"
   ]
  },
  {
   "cell_type": "code",
   "execution_count": 26,
   "metadata": {},
   "outputs": [],
   "source": [
    "df_cart.loc[df_cart['STATE']=='Wisconsin','region_flag']='Midwest'"
   ]
  },
  {
   "cell_type": "code",
   "execution_count": 27,
   "metadata": {},
   "outputs": [],
   "source": [
    "df_cart.loc[df_cart['STATE']=='Michigan','region_flag']='Midwest'"
   ]
  },
  {
   "cell_type": "code",
   "execution_count": 28,
   "metadata": {},
   "outputs": [],
   "source": [
    "df_cart.loc[df_cart['STATE']=='North Dakota','region_flag']='Midwest'"
   ]
  },
  {
   "cell_type": "code",
   "execution_count": 29,
   "metadata": {},
   "outputs": [],
   "source": [
    "df_cart.loc[df_cart['STATE']=='South Dakota','region_flag']='Midwest'"
   ]
  },
  {
   "cell_type": "code",
   "execution_count": 30,
   "metadata": {},
   "outputs": [],
   "source": [
    "df_cart.loc[df_cart['STATE']=='Nebraska','region_flag']='Midwest'"
   ]
  },
  {
   "cell_type": "code",
   "execution_count": 31,
   "metadata": {},
   "outputs": [],
   "source": [
    "df_cart.loc[df_cart['STATE']=='Kansas','region_flag']='Midwest'"
   ]
  },
  {
   "cell_type": "code",
   "execution_count": 32,
   "metadata": {},
   "outputs": [],
   "source": [
    "df_cart.loc[df_cart['STATE']=='Minnesota','region_flag']='Midwest'"
   ]
  },
  {
   "cell_type": "code",
   "execution_count": 33,
   "metadata": {},
   "outputs": [],
   "source": [
    "df_cart.loc[df_cart['STATE']=='Iowa','region_flag']='Midwest'"
   ]
  },
  {
   "cell_type": "code",
   "execution_count": 34,
   "metadata": {},
   "outputs": [],
   "source": [
    "df_cart.loc[df_cart['STATE']=='Missouri','region_flag']='Midwest'"
   ]
  },
  {
   "cell_type": "code",
   "execution_count": 43,
   "metadata": {},
   "outputs": [],
   "source": [
    "df_cart.loc[df_cart['STATE']=='Delaware','region_flag']='South'"
   ]
  },
  {
   "cell_type": "code",
   "execution_count": 44,
   "metadata": {},
   "outputs": [],
   "source": [
    "df_cart.loc[df_cart['STATE']=='Maryland','region_flag']='South'"
   ]
  },
  {
   "cell_type": "code",
   "execution_count": 45,
   "metadata": {},
   "outputs": [],
   "source": [
    "df_cart.loc[df_cart['STATE']=='District of Columbia','region_flag']='South'"
   ]
  },
  {
   "cell_type": "code",
   "execution_count": 46,
   "metadata": {},
   "outputs": [],
   "source": [
    "df_cart.loc[df_cart['STATE']=='Virginia','region_flag']='South'"
   ]
  },
  {
   "cell_type": "code",
   "execution_count": 47,
   "metadata": {},
   "outputs": [],
   "source": [
    "df_cart.loc[df_cart['STATE']=='West Virginia','region_flag']='South'"
   ]
  },
  {
   "cell_type": "code",
   "execution_count": 48,
   "metadata": {},
   "outputs": [],
   "source": [
    "df_cart.loc[df_cart['STATE']=='North Carolina','region_flag']='South'"
   ]
  },
  {
   "cell_type": "code",
   "execution_count": 49,
   "metadata": {},
   "outputs": [],
   "source": [
    "df_cart.loc[df_cart['STATE']=='South Carolina','region_flag']='South'"
   ]
  },
  {
   "cell_type": "code",
   "execution_count": 50,
   "metadata": {},
   "outputs": [],
   "source": [
    "df_cart.loc[df_cart['STATE']=='Georgia','region_flag']='South'"
   ]
  },
  {
   "cell_type": "code",
   "execution_count": 51,
   "metadata": {},
   "outputs": [],
   "source": [
    "df_cart.loc[df_cart['STATE']=='Florida','region_flag']='South'"
   ]
  },
  {
   "cell_type": "code",
   "execution_count": 52,
   "metadata": {},
   "outputs": [],
   "source": [
    "df_cart.loc[df_cart['STATE']=='Kentucky','region_flag']='South'"
   ]
  },
  {
   "cell_type": "code",
   "execution_count": 53,
   "metadata": {},
   "outputs": [],
   "source": [
    "df_cart.loc[df_cart['STATE']=='Tennessee','region_flag']='South'"
   ]
  },
  {
   "cell_type": "code",
   "execution_count": 54,
   "metadata": {},
   "outputs": [],
   "source": [
    "df_cart.loc[df_cart['STATE']=='Mississippi','region_flag']='South'"
   ]
  },
  {
   "cell_type": "code",
   "execution_count": 55,
   "metadata": {},
   "outputs": [],
   "source": [
    "df_cart.loc[df_cart['STATE']=='Alabama','region_flag']='South'"
   ]
  },
  {
   "cell_type": "code",
   "execution_count": 56,
   "metadata": {},
   "outputs": [],
   "source": [
    "df_cart.loc[df_cart['STATE']=='Oklahoma','region_flag']='South'"
   ]
  },
  {
   "cell_type": "code",
   "execution_count": 57,
   "metadata": {},
   "outputs": [],
   "source": [
    "df_cart.loc[df_cart['STATE']=='Texas','region_flag']='South'"
   ]
  },
  {
   "cell_type": "code",
   "execution_count": 58,
   "metadata": {},
   "outputs": [],
   "source": [
    "df_cart.loc[df_cart['STATE']=='Arkansas','region_flag']='South'"
   ]
  },
  {
   "cell_type": "code",
   "execution_count": 59,
   "metadata": {},
   "outputs": [],
   "source": [
    "df_cart.loc[df_cart['STATE']=='Louisiana','region_flag']='South'"
   ]
  },
  {
   "cell_type": "code",
   "execution_count": 60,
   "metadata": {},
   "outputs": [],
   "source": [
    "df_cart.loc[df_cart['STATE']=='Idaho','region_flag']='West'"
   ]
  },
  {
   "cell_type": "code",
   "execution_count": 61,
   "metadata": {},
   "outputs": [],
   "source": [
    "df_cart.loc[df_cart['STATE']=='Montana','region_flag']='West'"
   ]
  },
  {
   "cell_type": "code",
   "execution_count": 62,
   "metadata": {},
   "outputs": [],
   "source": [
    "df_cart.loc[df_cart['STATE']=='Wyoming','region_flag']='West'"
   ]
  },
  {
   "cell_type": "code",
   "execution_count": 63,
   "metadata": {},
   "outputs": [],
   "source": [
    "df_cart.loc[df_cart['STATE']=='Nevada','region_flag']='West'"
   ]
  },
  {
   "cell_type": "code",
   "execution_count": 64,
   "metadata": {},
   "outputs": [],
   "source": [
    "df_cart.loc[df_cart['STATE']=='Utah','region_flag']='West'"
   ]
  },
  {
   "cell_type": "code",
   "execution_count": 65,
   "metadata": {},
   "outputs": [],
   "source": [
    "df_cart.loc[df_cart['STATE']=='Colorado','region_flag']='West'"
   ]
  },
  {
   "cell_type": "code",
   "execution_count": 66,
   "metadata": {},
   "outputs": [],
   "source": [
    "df_cart.loc[df_cart['STATE']=='Arizona','region_flag']='West'"
   ]
  },
  {
   "cell_type": "code",
   "execution_count": 67,
   "metadata": {},
   "outputs": [],
   "source": [
    "df_cart.loc[df_cart['STATE']=='New Mexico','region_flag']='West'"
   ]
  },
  {
   "cell_type": "code",
   "execution_count": 68,
   "metadata": {},
   "outputs": [],
   "source": [
    "df_cart.loc[df_cart['STATE']=='Alaska','region_flag']='West'"
   ]
  },
  {
   "cell_type": "code",
   "execution_count": 69,
   "metadata": {},
   "outputs": [],
   "source": [
    "df_cart.loc[df_cart['STATE']=='Washington','region_flag']='West'"
   ]
  },
  {
   "cell_type": "code",
   "execution_count": 70,
   "metadata": {},
   "outputs": [],
   "source": [
    "df_cart.loc[df_cart['STATE']=='Oregon','region_flag']='West'"
   ]
  },
  {
   "cell_type": "code",
   "execution_count": 71,
   "metadata": {},
   "outputs": [],
   "source": [
    "df_cart.loc[df_cart['STATE']=='California','region_flag']='West'"
   ]
  },
  {
   "cell_type": "code",
   "execution_count": 72,
   "metadata": {},
   "outputs": [],
   "source": [
    "df_cart.loc[df_cart['STATE']=='Hawaii','region_flag']='West'"
   ]
  },
  {
   "cell_type": "code",
   "execution_count": 73,
   "metadata": {},
   "outputs": [
    {
     "data": {
      "text/plain": [
       "South        10791885\n",
       "West          8292913\n",
       "Midwest       7597325\n",
       "Northeast     5722736\n",
       "Name: region_flag, dtype: int64"
      ]
     },
     "execution_count": 73,
     "metadata": {},
     "output_type": "execute_result"
    }
   ],
   "source": [
    "df_cart['region_flag'].value_counts()"
   ]
  },
  {
   "cell_type": "code",
   "execution_count": 75,
   "metadata": {},
   "outputs": [],
   "source": [
    "#import visualization libraries\n",
    "import matplotlib.pyplot as plt\n",
    "import seaborn as sns\n",
    "import scipy"
   ]
  },
  {
   "cell_type": "code",
   "execution_count": 81,
   "metadata": {},
   "outputs": [],
   "source": [
    "df_cart.to_csv(os.path.join(path, 'Data','Prepared Data', 'all_data_merged.csv'))"
   ]
  },
  {
   "cell_type": "code",
   "execution_count": null,
   "metadata": {},
   "outputs": [],
   "source": []
  }
 ],
 "metadata": {
  "kernelspec": {
   "display_name": "Python 3",
   "language": "python",
   "name": "python3"
  },
  "language_info": {
   "codemirror_mode": {
    "name": "ipython",
    "version": 3
   },
   "file_extension": ".py",
   "mimetype": "text/x-python",
   "name": "python",
   "nbconvert_exporter": "python",
   "pygments_lexer": "ipython3",
   "version": "3.8.5"
  }
 },
 "nbformat": 4,
 "nbformat_minor": 4
}
